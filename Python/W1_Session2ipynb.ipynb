{
  "nbformat": 4,
  "nbformat_minor": 0,
  "metadata": {
    "colab": {
      "provenance": [],
      "authorship_tag": "ABX9TyOhyRNwyi6sO0ICGcFtaq3h",
      "include_colab_link": true
    },
    "kernelspec": {
      "name": "python3",
      "display_name": "Python 3"
    },
    "language_info": {
      "name": "python"
    }
  },
  "cells": [
    {
      "cell_type": "markdown",
      "metadata": {
        "id": "view-in-github",
        "colab_type": "text"
      },
      "source": [
        "<a href=\"https://colab.research.google.com/github/IamFaizul/Meet_Faizul/blob/main/Python/W1_Session2ipynb.ipynb\" target=\"_parent\"><img src=\"https://colab.research.google.com/assets/colab-badge.svg\" alt=\"Open In Colab\"/></a>"
      ]
    },
    {
      "cell_type": "markdown",
      "source": [
        "# Bitwise Operators"
      ],
      "metadata": {
        "id": "p8tkuftJKsKJ"
      }
    },
    {
      "cell_type": "code",
      "execution_count": null,
      "metadata": {
        "colab": {
          "base_uri": "https://localhost:8080/"
        },
        "id": "HaQtXKS7Fz9C",
        "outputId": "0bb56c99-c423-4e4f-8ec7-4db0abc6a995"
      },
      "outputs": [
        {
          "output_type": "stream",
          "name": "stdout",
          "text": [
            "4\n",
            "5\n",
            "1\n",
            "-4\n",
            "1\n",
            "16\n"
          ]
        }
      ],
      "source": [
        "\n",
        "\n",
        "# Bitwise AND\n",
        "print(4 & 5)\n",
        "\n",
        "# Bitwise OR\n",
        "print(4|5)\n",
        "\n",
        "# Bitwise XOR\n",
        "print(4^5)\n",
        "\n",
        "# Bitwise NOT\n",
        "print(~3)\n",
        "\n",
        "# Bitwise LEFT\n",
        "print(4>>2)\n",
        "\n",
        "# Bitwise RIGHT\n",
        "print(4<<2)"
      ]
    },
    {
      "cell_type": "markdown",
      "source": [
        "# Assignment Operators"
      ],
      "metadata": {
        "id": "w3VwhaJZLB85"
      }
    },
    {
      "cell_type": "code",
      "source": [
        "a = 2\n",
        "a +=2\n",
        "print(a)\n",
        "a *=2\n",
        "print(a)"
      ],
      "metadata": {
        "colab": {
          "base_uri": "https://localhost:8080/"
        },
        "id": "sh9FobbzK-wT",
        "outputId": "708f5782-6921-438e-c405-6f3621749cf4"
      },
      "execution_count": null,
      "outputs": [
        {
          "output_type": "stream",
          "name": "stdout",
          "text": [
            "4\n",
            "8\n"
          ]
        }
      ]
    },
    {
      "cell_type": "code",
      "source": [
        "a = 'Faizul'\n",
        "a+=\"p\"\n",
        "print(a)"
      ],
      "metadata": {
        "colab": {
          "base_uri": "https://localhost:8080/"
        },
        "id": "nGYKCKy5Hc03",
        "outputId": "c074f34e-7a85-4de4-fb24-1538b4a30442"
      },
      "execution_count": null,
      "outputs": [
        {
          "output_type": "stream",
          "name": "stdout",
          "text": [
            "Faizulp\n"
          ]
        }
      ]
    },
    {
      "cell_type": "markdown",
      "source": [
        "# Membership Operators"
      ],
      "metadata": {
        "id": "UuAx0hQbLa4x"
      }
    },
    {
      "cell_type": "code",
      "source": [
        "# in & not in (Cool!!)\n",
        "\n",
        "city = 'Khulna'\n",
        "print('K' in city)\n",
        "print('P' not in city)\n",
        "list1 = [2,5,6,8]\n",
        "print(2 in list1)"
      ],
      "metadata": {
        "colab": {
          "base_uri": "https://localhost:8080/"
        },
        "id": "suoQrFj_K-zq",
        "outputId": "25bafe72-70ae-48c4-a634-4b7cbfc58547"
      },
      "execution_count": null,
      "outputs": [
        {
          "output_type": "stream",
          "name": "stdout",
          "text": [
            "True\n",
            "True\n",
            "True\n"
          ]
        }
      ]
    },
    {
      "cell_type": "code",
      "source": [
        "# Take a 3 digit number from the user and sum all the digits\n",
        "\n",
        "number = int(input(\"Enter a 3 digit number \"))\n",
        "# 554\n",
        "digit1 = number%10\n",
        "# 4\n",
        "number = number//10\n",
        "# 55\n",
        "digit2 = number%10\n",
        "# 5\n",
        "number= number//10\n",
        "\n",
        "digit3 = number%10\n",
        "\n",
        "print(digit1)\n",
        "print(digit2)\n",
        "print(digit3)\n",
        "sum = digit1 + digit2 + digit3\n",
        "print(sum)\n",
        "\n",
        "\n",
        "\n",
        "# Alternative and efficient way\n",
        "\n",
        "number = int(input(\"Enter a 3 digit number \"))\n",
        "sum = 0\n",
        "for i in str(number):\n",
        "    sum+=int(i)\n",
        "\n",
        "print(sum)"
      ],
      "metadata": {
        "id": "9kgCgLnXK-2w",
        "colab": {
          "base_uri": "https://localhost:8080/"
        },
        "outputId": "6947a399-0ff4-41b2-91d2-7843f24a54c7"
      },
      "execution_count": null,
      "outputs": [
        {
          "output_type": "stream",
          "name": "stdout",
          "text": [
            "Enter a 3 digit number 554\n",
            "4\n",
            "5\n",
            "5\n",
            "14\n"
          ]
        }
      ]
    },
    {
      "cell_type": "code",
      "source": [
        "number = int(input(\"Enter a 3 digit number \"))\n",
        "li = list(map(int,str(number)))\n",
        "print(li)"
      ],
      "metadata": {
        "colab": {
          "base_uri": "https://localhost:8080/"
        },
        "id": "IzM-f5hkKG_n",
        "outputId": "34f8ffd3-65ea-4086-f88c-cd539ae4441f"
      },
      "execution_count": null,
      "outputs": [
        {
          "output_type": "stream",
          "name": "stdout",
          "text": [
            "Enter a 3 digit number 456\n",
            "[4, 5, 6]\n"
          ]
        }
      ]
    },
    {
      "cell_type": "markdown",
      "source": [
        "# Modules"
      ],
      "metadata": {
        "id": "NIycfn_ZSf7Q"
      }
    },
    {
      "cell_type": "markdown",
      "source": [
        "* math\n",
        "* random\n",
        "* keywords\n",
        "* datatime"
      ],
      "metadata": {
        "id": "wVZcYiOaSoKW"
      }
    },
    {
      "cell_type": "code",
      "source": [
        "# math\n",
        "\n",
        "import math\n",
        "math.floor(5.26)\n",
        "math.ceil(5.26)\n",
        "math.pi"
      ],
      "metadata": {
        "colab": {
          "base_uri": "https://localhost:8080/"
        },
        "id": "j-z71EVzSdPx",
        "outputId": "0f343a56-3d73-45d8-cee7-82aa355565a8"
      },
      "execution_count": null,
      "outputs": [
        {
          "output_type": "execute_result",
          "data": {
            "text/plain": [
              "3.141592653589793"
            ]
          },
          "metadata": {},
          "execution_count": 19
        }
      ]
    },
    {
      "cell_type": "code",
      "source": [
        "# keywords\n",
        "\n",
        "import keyword\n",
        "print(keyword.kwlist)\n",
        "\n",
        "# You can't use this keywords as variable names"
      ],
      "metadata": {
        "id": "YAWy7aB5K-52",
        "colab": {
          "base_uri": "https://localhost:8080/"
        },
        "outputId": "bd5a93a5-0847-4b63-ea21-af03f6f6c4de"
      },
      "execution_count": null,
      "outputs": [
        {
          "output_type": "stream",
          "name": "stdout",
          "text": [
            "['False', 'None', 'True', 'and', 'as', 'assert', 'async', 'await', 'break', 'class', 'continue', 'def', 'del', 'elif', 'else', 'except', 'finally', 'for', 'from', 'global', 'if', 'import', 'in', 'is', 'lambda', 'nonlocal', 'not', 'or', 'pass', 'raise', 'return', 'try', 'while', 'with', 'yield']\n"
          ]
        }
      ]
    },
    {
      "cell_type": "code",
      "source": [
        "# random\n",
        "\n",
        "import random\n",
        "print(random.randint(1,100))"
      ],
      "metadata": {
        "id": "lnTVKau7K-87",
        "colab": {
          "base_uri": "https://localhost:8080/"
        },
        "outputId": "732b1a2b-cc8d-4913-ab73-437ca63b8780"
      },
      "execution_count": null,
      "outputs": [
        {
          "output_type": "stream",
          "name": "stdout",
          "text": [
            "12\n"
          ]
        }
      ]
    },
    {
      "cell_type": "code",
      "source": [
        "# datetime\n",
        "\n",
        "import datetime\n",
        "print(datetime.datetime.now())"
      ],
      "metadata": {
        "id": "93kHfzraK-_5",
        "colab": {
          "base_uri": "https://localhost:8080/",
          "height": 72
        },
        "outputId": "d2ab8aec-6b9b-4574-e8e3-586b6ad32989"
      },
      "execution_count": null,
      "outputs": [
        {
          "output_type": "stream",
          "name": "stderr",
          "text": [
            "/usr/local/lib/python3.10/dist-packages/ipykernel/ipkernel.py:283: DeprecationWarning: `should_run_async` will not call `transform_cell` automatically in the future. Please pass the result to `transformed_cell` argument and any exception that happen during thetransform in `preprocessing_exc_tuple` in IPython 7.17 and above.\n"
          ]
        },
        {
          "output_type": "display_data",
          "data": {
            "text/plain": [
              "<IPython.core.display.HTML object>"
            ],
            "text/html": [
              "\n",
              "            <style>\n",
              "                .geemap-dark {\n",
              "                    --jp-widgets-color: white;\n",
              "                    --jp-widgets-label-color: white;\n",
              "                    --jp-ui-font-color1: white;\n",
              "                    --jp-layout-color2: #454545;\n",
              "                    background-color: #383838;\n",
              "                }\n",
              "\n",
              "                .geemap-dark .jupyter-button {\n",
              "                    --jp-layout-color3: #383838;\n",
              "                }\n",
              "\n",
              "                .geemap-colab {\n",
              "                    background-color: var(--colab-primary-surface-color, white);\n",
              "                }\n",
              "\n",
              "                .geemap-colab .jupyter-button {\n",
              "                    --jp-layout-color3: var(--colab-primary-surface-color, white);\n",
              "                }\n",
              "            </style>\n",
              "            "
            ]
          },
          "metadata": {}
        },
        {
          "output_type": "stream",
          "name": "stdout",
          "text": [
            "2024-03-14 09:36:02.665387\n"
          ]
        }
      ]
    },
    {
      "cell_type": "code",
      "source": [],
      "metadata": {
        "id": "krvwMuiZK_GG"
      },
      "execution_count": null,
      "outputs": []
    },
    {
      "cell_type": "code",
      "source": [],
      "metadata": {
        "id": "0SMZ-axoK_JM"
      },
      "execution_count": null,
      "outputs": []
    },
    {
      "cell_type": "code",
      "source": [],
      "metadata": {
        "id": "ML_YbnCtK_MZ"
      },
      "execution_count": null,
      "outputs": []
    },
    {
      "cell_type": "code",
      "source": [],
      "metadata": {
        "id": "5Dw_Rcd-K_Pi"
      },
      "execution_count": null,
      "outputs": []
    },
    {
      "cell_type": "code",
      "source": [],
      "metadata": {
        "id": "ftu9HENwK_So"
      },
      "execution_count": null,
      "outputs": []
    },
    {
      "cell_type": "code",
      "source": [],
      "metadata": {
        "id": "BU8NxIu3K_Vv"
      },
      "execution_count": null,
      "outputs": []
    },
    {
      "cell_type": "code",
      "source": [],
      "metadata": {
        "id": "TToyal9CK_ZE"
      },
      "execution_count": null,
      "outputs": []
    },
    {
      "cell_type": "code",
      "source": [],
      "metadata": {
        "id": "obcLnIdsK_cV"
      },
      "execution_count": null,
      "outputs": []
    },
    {
      "cell_type": "code",
      "source": [],
      "metadata": {
        "id": "n8rGyX2NK_fb"
      },
      "execution_count": null,
      "outputs": []
    },
    {
      "cell_type": "code",
      "source": [],
      "metadata": {
        "id": "RXZCc8mFK_ic"
      },
      "execution_count": null,
      "outputs": []
    },
    {
      "cell_type": "code",
      "source": [],
      "metadata": {
        "id": "x2rkeyOMK_lx"
      },
      "execution_count": null,
      "outputs": []
    },
    {
      "cell_type": "code",
      "source": [],
      "metadata": {
        "id": "9tU8uGrHK_ov"
      },
      "execution_count": null,
      "outputs": []
    },
    {
      "cell_type": "code",
      "source": [],
      "metadata": {
        "id": "VD4oYgbWK_vB"
      },
      "execution_count": null,
      "outputs": []
    }
  ]
}